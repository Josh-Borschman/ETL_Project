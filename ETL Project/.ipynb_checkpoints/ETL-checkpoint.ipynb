{
 "cells": [
  {
   "cell_type": "code",
   "execution_count": null,
   "metadata": {},
   "outputs": [],
   "source": [
    "import pandas as pd\n",
    "import glob\n",
    "from sqlalchemy import create_engine"
   ]
  },
  {
   "cell_type": "code",
   "execution_count": null,
   "metadata": {},
   "outputs": [],
   "source": [
    "files = sorted(glob.glob(\"Resources/*.csv\"))\n",
    "dfs = [pd.read_csv(f, encoding= 'ISO-8859-1') for f in files]"
   ]
  },
  {
   "cell_type": "code",
   "execution_count": null,
   "metadata": {},
   "outputs": [],
   "source": [
    "df2015 = dfs[0]\n",
    "df2015.head()\n",
    "df2015 = df2015.drop(['Region', 'Standard Error', 'Family', 'Freedom', 'Trust (Government Corruption)', 'Generosity', 'Dystopia Residual'], axis=1)\n",
    "df2015.rename(columns={\"Happiness Rank\": \"Happiness_Rank\", \"Happiness Score\": \"Happiness_Score\", \"Economy (GDP per Capita)\":\"GDP_Per_Capita\", \"Health (Life Expectancy)\": \"Health_Life_Expectancy\"}, inplace=True)\n",
    "df2015[\"Year\"] = '2015'\n",
    "df2015.set_index('Country', inplace=True)\n",
    "df2015.head()"
   ]
  },
  {
   "cell_type": "code",
   "execution_count": null,
   "metadata": {},
   "outputs": [],
   "source": [
    "df2016 = dfs[1]\n",
    "df2016.head()\n",
    "df2016 = df2016.drop(['Region', 'Lower Confidence Interval', 'Upper Confidence Interval', 'Family', 'Freedom', 'Trust (Government Corruption)', 'Generosity', 'Dystopia Residual'], axis=1)\n",
    "df2016.rename(columns={\"Happiness Rank\": \"Happiness_Rank\", \"Happiness Score\": \"Happiness_Score\", \"Economy (GDP per Capita)\":\"GDP_Per_Capita\", \"Health (Life Expectancy)\": \"Health_Life_Expectancy\"}, inplace=True)\n",
    "df2016[\"Year\"] = '2016'\n",
    "df2016.set_index('Country', inplace=True)\n",
    "df2016.head()"
   ]
  },
  {
   "cell_type": "code",
   "execution_count": null,
   "metadata": {},
   "outputs": [],
   "source": [
    "df2017 = dfs[2]\n",
    "df2017.head()\n",
    "df2017 = df2017.drop(['Whisker.high', 'Whisker.low', 'Family', 'Freedom', 'Trust..Government.Corruption.', 'Generosity', 'Dystopia.Residual'], axis=1)\n",
    "df2017.rename(columns={\"Happiness.Rank\": \"Happiness_Rank\", \"Happiness.Score\": \"Happiness_Score\", \"Economy..GDP.per.Capita.\": \"GDP_Per_Capita\", \"Health..Life.Expectancy.\": \"Health_Life_Expectancy\"}, inplace=True)\n",
    "df2017[\"Year\"] = '2017'\n",
    "df2017.set_index('Country', inplace=True)\n",
    "df2017.head()"
   ]
  },
  {
   "cell_type": "code",
   "execution_count": null,
   "metadata": {},
   "outputs": [],
   "source": [
    "df2018 = dfs[3]\n",
    "df2018.head()\n",
    "df2018 = df2018.drop(['Social support', 'Freedom to make life choices', 'Generosity','Perceptions of corruption'], axis=1)\n",
    "df2018.rename(columns={\"Overall rank\": \"Happiness_Rank\", \"Country or region\": \"Country\", \"Score\": \"Happiness_Score\", \"GDP per capita\" :\"GDP_Per_Capita\", \"Healthy life expectancy\": \"Health_Life_Expectancy\"}, inplace=True)\n",
    "df2018[\"Year\"] = '2018'\n",
    "df2018.set_index('Country', inplace=True)\n",
    "df2018.head()"
   ]
  },
  {
   "cell_type": "code",
   "execution_count": null,
   "metadata": {},
   "outputs": [],
   "source": [
    "df2019 = dfs[4]\n",
    "df2019.head()\n",
    "df2019 = df2019.drop(['Social support', 'Freedom to make life choices', 'Generosity','Perceptions of corruption'], axis=1)\n",
    "df2019.rename(columns={\"Overall rank\": \"Happiness_Rank\", \"Country or region\": \"Country\", \"Score\": \"Happiness_Score\", \"GDP per capita\" :\"GDP_Per_Capita\", \"Healthy life expectancy\": \"Health_Life_Expectancy\"}, inplace=True)\n",
    "df2019[\"Year\"] = '2019'\n",
    "df2019.set_index('Country', inplace=True)\n",
    "df2019.head()"
   ]
  },
  {
   "cell_type": "code",
   "execution_count": null,
   "metadata": {},
   "outputs": [],
   "source": [
    "combined_df = pd.concat([df2015,df2016,df2017, df2018, df2019],axis=0,sort=False)\n",
    "combined_df.reset_index()\n",
    "combined_df"
   ]
  },
  {
   "cell_type": "code",
   "execution_count": null,
   "metadata": {},
   "outputs": [],
   "source": []
  },
  {
   "cell_type": "code",
   "execution_count": null,
   "metadata": {},
   "outputs": [],
   "source": [
    "infant_df = pd.read_csv(\"Rate/InfantMortalityRate.csv\", encoding= 'ISO-8859-1')\n",
    "infant_df = infant_df.dropna()\n",
    "infant_df1 = infant_df.copy()\n",
    "infant_df1['Year'] = infant_df.Year.astype(int)\n",
    "infant_df1 = infant_df1.rename(columns={\"Country\": \"country\",\"Infant Mortality Rate\": \"infant_mortality_rate\", \"Gender\":\"gender\", \"Year\": \"year\"}, inplace=False)\n",
    "del infant_df1['country']"
   ]
  },
  {
   "cell_type": "code",
   "execution_count": null,
   "metadata": {},
   "outputs": [],
   "source": [
    "infant_df1"
   ]
  },
  {
   "cell_type": "code",
   "execution_count": null,
   "metadata": {},
   "outputs": [],
   "source": [
    "list_of_countries = combined_df.index.to_list()\n",
    "list1 = set(list_of_countries)\n",
    "list1"
   ]
  },
  {
   "cell_type": "code",
   "execution_count": null,
   "metadata": {},
   "outputs": [],
   "source": [
    "list_of_country = infant_df[\"Country\"]\n",
    "list2 = set(list_of_country)\n",
    "list2"
   ]
  },
  {
   "cell_type": "code",
   "execution_count": null,
   "metadata": {},
   "outputs": [],
   "source": []
  },
  {
   "cell_type": "code",
   "execution_count": null,
   "metadata": {},
   "outputs": [],
   "source": [
    "combinedlist = list1.union(list2)\n",
    "combinedlist"
   ]
  },
  {
   "cell_type": "code",
   "execution_count": null,
   "metadata": {},
   "outputs": [],
   "source": [
    "list_of_countries = pd.DataFrame(combinedlist,columns=['country_name'])\n",
    "list_of_countries"
   ]
  },
  {
   "cell_type": "code",
   "execution_count": null,
   "metadata": {},
   "outputs": [],
   "source": []
  },
  {
   "cell_type": "code",
   "execution_count": null,
   "metadata": {},
   "outputs": [],
   "source": [
    "connection_string = \"sanskrutisharma:sanskrutisharma@localhost:5432/ETL\"\n",
    "engine = create_engine(f'postgresql://{connection_string}')"
   ]
  },
  {
   "cell_type": "code",
   "execution_count": null,
   "metadata": {},
   "outputs": [],
   "source": [
    "engine.table_names()"
   ]
  },
  {
   "cell_type": "code",
   "execution_count": null,
   "metadata": {},
   "outputs": [],
   "source": [
    "list_of_countries.to_sql(name='list_of_countries', con=engine, if_exists='append', index=False)"
   ]
  },
  {
   "cell_type": "code",
   "execution_count": null,
   "metadata": {},
   "outputs": [],
   "source": [
    "infant_df1.to_sql(name='mortality', con=engine, if_exists='append', index=False)"
   ]
  },
  {
   "cell_type": "code",
   "execution_count": null,
   "metadata": {},
   "outputs": [],
   "source": [
    "combined_df.to_sql(name='happiness', con=engine, if_exists='append', index=False)"
   ]
  },
  {
   "cell_type": "code",
   "execution_count": null,
   "metadata": {},
   "outputs": [],
   "source": []
  }
 ],
 "metadata": {
  "kernelspec": {
   "display_name": "Python 3",
   "language": "python",
   "name": "python3"
  },
  "language_info": {
   "codemirror_mode": {
    "name": "ipython",
    "version": 3
   },
   "file_extension": ".py",
   "mimetype": "text/x-python",
   "name": "python",
   "nbconvert_exporter": "python",
   "pygments_lexer": "ipython3",
   "version": "3.8.5"
  }
 },
 "nbformat": 4,
 "nbformat_minor": 4
}
